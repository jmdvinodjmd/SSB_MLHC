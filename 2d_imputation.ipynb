{
 "cells": [
  {
   "cell_type": "markdown",
   "metadata": {},
   "source": [
    "# Solve Selection Bias by Imputing the missing labels"
   ]
  },
  {
   "cell_type": "code",
   "execution_count": null,
   "metadata": {
    "execution": {
     "iopub.execute_input": "2024-02-11T04:25:20.524333Z",
     "iopub.status.busy": "2024-02-11T04:25:20.523746Z",
     "iopub.status.idle": "2024-02-11T04:25:24.217939Z",
     "shell.execute_reply": "2024-02-11T04:25:24.217227Z"
    }
   },
   "outputs": [],
   "source": [
    "# set working directory\n",
    "from random import SystemRandom\n",
    "import pandas as pd\n",
    "import numpy as np\n",
    "import xgboost as xgb\n",
    "# from hyperopt import hp, fmin, tpe, STATUS_OK, Trials\n",
    "from sklearn.model_selection import cross_val_score\n",
    "from sklearn.metrics import roc_auc_score\n",
    "from sklearn.model_selection import RandomizedSearchCV, GridSearchCV\n",
    "from sklearn.linear_model import LogisticRegression\n",
    "from sklearn.preprocessing import RobustScaler\n",
    "\n",
    "import os\n",
    "import pickle\n",
    "from sklearn.model_selection import train_test_split\n",
    "import wandb\n",
    "\n",
    "import torch\n",
    "import torch.nn as nn\n",
    "import torch.optim as optim\n",
    "from sklearn.model_selection import GridSearchCV\n",
    "from sklearn.datasets import make_classification\n",
    "from sklearn.model_selection import train_test_split\n",
    "from sklearn.metrics import accuracy_score\n",
    "\n",
    "# from torch._C import float32\n",
    "import argparse\n",
    "from asyncio.log import logger\n",
    "import os, math\n",
    "import logging\n",
    "import torch\n",
    "import numpy as np\n",
    "import json\n",
    "\n",
    "import torch.nn as nn\n",
    "import torch\n",
    "\n",
    "import pickle\n",
    "import json\n",
    "import numpy as np\n",
    "import random\n",
    "from torch.utils.data import Dataset, DataLoader, random_split, WeightedRandomSampler\n",
    "import torch\n",
    "import os\n",
    "import torch.nn as nn\n",
    "import torch.optim as optim\n",
    "from sklearn.datasets import load_iris\n",
    "from sklearn.datasets import load_breast_cancer\n",
    "\n",
    "from sklearn.model_selection import train_test_split\n",
    "from sklearn.preprocessing import StandardScaler\n",
    "\n",
    "import torch.nn as nn\n",
    "import torch\n",
    "import math\n",
    "import pandas as pd\n",
    "import random\n",
    "\n",
    "# Importing matplotlib and seaborn\n",
    "import matplotlib.pyplot as plt\n",
    "import seaborn as sns\n",
    "from sklearn.datasets import load_breast_cancer\n",
    "from sklearn.model_selection import train_test_split\n",
    "from sklearn.preprocessing import MinMaxScaler\n",
    "\n",
    "import sys\n",
    "import warnings\n",
    "\n",
    "import numpy as np\n",
    "import pandas as pd\n",
    "\n",
    "from sklearn.metrics import roc_auc_score\n",
    "from hyperimpute.plugins.imputers import Imputers\n",
    "\n",
    "from IPython.display import HTML, display\n",
    "# import tabulate\n",
    "\n",
    "import utils\n",
    "from utils import *\n",
    "if not sys.warnoptions:\n",
    "    warnings.simplefilter(\"ignore\")\n",
    "\n",
    "%matplotlib inline"
   ]
  },
  {
   "cell_type": "code",
   "execution_count": null,
   "metadata": {
    "execution": {
     "iopub.execute_input": "2024-02-11T04:25:24.224271Z",
     "iopub.status.busy": "2024-02-11T04:25:24.223454Z",
     "iopub.status.idle": "2024-02-11T04:25:24.305020Z",
     "shell.execute_reply": "2024-02-11T04:25:24.304177Z"
    }
   },
   "outputs": [],
   "source": [
    "MINI_BATCH = 64\n",
    "EPOCHS = 1000\n",
    "LOAD = None\n",
    "SEED = 42\n",
    "REPEAT = 10\n",
    "\n",
    "if torch.cuda.is_available():\n",
    "    device = torch.device(\"cuda\")  # Set device to GPU\n",
    "    print(\"CUDA is available! Using GPU.\")\n",
    "else:\n",
    "    device = torch.device(\"cpu\")  # Set device to CPU\n",
    "    print(\"CUDA is not available. Using CPU.\")\n",
    "\n",
    "torch.manual_seed(SEED)\n",
    "np.random.seed(SEED)\n",
    "torch.cuda.manual_seed(SEED)\n",
    "random.seed(SEED)\n",
    "\n",
    "param_grid = {\n",
    "            'drop_rate': [0.1],\n",
    "            'hidden_sizes':[[50], [100], [100, 100]],# [[50], [50, 50], [50, 100], [100], [100, 100]],\n",
    "            'head_sizes':[[50], [100]],# [[50], [100]],\n",
    "            'lr':[0.0001, 0.0005]\n",
    "        }\n",
    "# params_risk = {\n",
    "#             'drop_rate': 0.05,\n",
    "#             'hidden_sizes':[100],# [[50], [50, 50], [50, 100], [100], [100, 100]],\n",
    "#             'head_sizes':[50],# [[50], [100]],\n",
    "#             'lr':0.0001\n",
    "#         }\n",
    "# params_censoring = params_risk \n",
    "############################################\n",
    "# initilising wandb\n",
    "# wandb.init(project='SeletionBML', entity=\"jmdvinodjmd\")\n",
    "wandb.init(mode=\"disabled\")\n",
    "wandb.run.name = 'SB'\n",
    "makedirs('./results/')\n",
    "experimentID = LOAD\n",
    "if experimentID is None:\n",
    "    experimentID = int(SystemRandom().random()*100000)\n",
    "# checkpoint\n",
    "ckpt_path = os.path.join('./results/checkpoints/imputation_model.ckpt')\n",
    "makedirs('./results/checkpoints/')\n",
    "# set logger\n",
    "log_path = os.path.join(\"./results/logs/\" + \"exp_imputation_\" + str(experimentID) + \".log\")\n",
    "makedirs(\"./results/logs/\")\n",
    "logger = get_logger(logpath=log_path, filepath=\"exp_imputation_\" + str(experimentID) + \".log\", displaying=False)\n",
    "logger.info(\"Experiment \" + str(experimentID))\n",
    "############################################"
   ]
  },
  {
   "cell_type": "code",
   "execution_count": null,
   "metadata": {
    "execution": {
     "iopub.execute_input": "2024-02-11T04:25:24.316608Z",
     "iopub.status.busy": "2024-02-11T04:25:24.316306Z",
     "iopub.status.idle": "2024-02-11T04:25:24.341505Z",
     "shell.execute_reply": "2024-02-11T04:25:24.340530Z"
    }
   },
   "outputs": [],
   "source": [
    "def experiment(data, params_risk, repeat=1):\n",
    "    [X_train, y_train, s_train, X_val, y_val, s_val, X_test, y_test, s_test] = data\n",
    "\n",
    "    # data for risk prediction\n",
    "    loader_train_br, input_size = get_loaders([X_train, y_train], batch_size=MINI_BATCH, is_train=True, device=device)\n",
    "    loader_val_br, _ = get_loaders([X_val, y_val], batch_size=MINI_BATCH, is_train=False, device=device)\n",
    "    loader_test_ur, _ = get_loaders([X_test, y_test], batch_size=MINI_BATCH, is_train=False, device=device)\n",
    "\n",
    "    # repeating experiment for a given number of times\n",
    "    results_risk = {}\n",
    "    for i in range(repeat):\n",
    "        logger.info('Repeating: ' + str(i+1))\n",
    "        results_risk[i] = {}\n",
    "        #############################\n",
    "        # train risk prediction model\n",
    "        model_risk, optimizer, criterion = create_model('MLP', params_risk, input_size, output_size=1, device=device)\n",
    "        early_stopping = EarlyStopping(patience=10, path=ckpt_path, verbose=True, logger=logger)\n",
    "        logger.info(model_risk)\n",
    "        wandb.watch(model_risk)\n",
    "        # train\n",
    "        model_risk = train_model(model_risk, 'MLP', loader_train_br, loader_val_br, optimizer, criterion, early_stopping, logger, epochs=EPOCHS, plot=False, wandb=wandb)\n",
    "        # evaluate\n",
    "        auroc_vb, _ = evaluate_model('Val', loader_val_br, model_risk, 'MLP', criterion, logger, -1, device, wandb)\n",
    "        auroc_tu, _ = evaluate_model('Test', loader_test_ur, model_risk, 'MLP', criterion, logger, -1, device, wandb)\n",
    "        logger.info('Risk Prediction: biased Val AUROC:' + str(auroc_vb['Val AUROC']) + ' unbiased Test AUROC:' + str(auroc_tu['Test AUROC']))\n",
    "        results_risk[i] = {'R-Val AUROC':auroc_vb['Val AUROC'], 'R-Test AUROC':auroc_tu['Test AUROC']}\n",
    "\n",
    "        ############################\n",
    "\n",
    "    return results_risk\n",
    "\n",
    "def study_effect(data_name, file_name, results_file, r, c, n, search_param=False):\n",
    "    ''' \n",
    "    This function is used to study effect of (riks rate, dataset size etc.).\n",
    "    It expects a set of datasets with some variations.\n",
    "    '''\n",
    "    logger.info('\\n\\n-------------N:'+str(n)+'--Risk Rate:' + str(r)+'--Censoring Rate:' + str(c)+'-------------------------.')\n",
    "\n",
    "    results_sizes = {}\n",
    "    for ni in n:\n",
    "        for ci in c:\n",
    "            for ri in r:\n",
    "                # load data dictionary\n",
    "                data_dict = get_data_dict(file_name, [ri], [ci], [ni])\n",
    "\n",
    "                logger.info('-----Running for Size:'+str(ni)+'--Risk Rate:' + str(ri)+'--Censoring Rate:' + str(ci)+'\\n-----------')\n",
    "                [X_train, y_train, s_train, X_val, y_val, s_val, X_test, y_test, s_test] = data_dict[str(ni)+'R'+str(ri)+'C'+str(ci)]\n",
    "                \n",
    "                # do imputation here\n",
    "                plugin = Imputers().get('missforest')\n",
    "\n",
    "                df = pd.DataFrame(X_train)\n",
    "                df['y'] = y_train\n",
    "                df['y'][s_train==1] = np.nan\n",
    "                _ = plugin.fit_transform(df.copy())\n",
    "                df = plugin.transform(df.copy())\n",
    "                y_train = df['y'].values\n",
    "\n",
    "                df = pd.DataFrame(X_val)\n",
    "                df['y'] = y_val\n",
    "                df['y'][s_val==1] = np.nan\n",
    "                df = plugin.transform(df.copy())\n",
    "                y_val = df['y'].values\n",
    "\n",
    "                data = [X_train, y_train, s_train, X_val, y_val, s_val, X_test, y_test, s_test]\n",
    "                \n",
    "                #############################\n",
    "                # Reading hyperparameters from the JSON file\n",
    "                with open('best_hyperparams.json', 'r') as json_file:\n",
    "                    best_hyperparams = json.load(json_file)\n",
    "                if ('Impute-'+data_name+str(ni)+'R'+str(ri)+'C'+str(ci) not in best_hyperparams) or search_param:\n",
    "                    # hyperparameter tuning \n",
    "                    logger.info('Finding best hyperparams.')\n",
    "                    loader_train_br, input_size = get_loaders([X_train, y_train], batch_size=MINI_BATCH, is_train=True, device=device)\n",
    "                    loader_val_br, _ = get_loaders([X_val, y_val], batch_size=MINI_BATCH, is_train=False, device=device)\n",
    "                    params_risk, best_score, results = grid_search_MLP('MLP', loader_train_br, loader_val_br, input_size, ckpt_path, param_grid, EPOCHS, logger, wandb, device)\n",
    "                    logger.info('Hyperparam tuning for risk prediction:')\n",
    "                    logger.info(results)\n",
    "\n",
    "                    best_hyperparams['Impute-'+data_name+str(ni)+'R'+str(ri)+'C'+str(ci)] = {'params_risk': params_risk}\n",
    "                    # save best params\n",
    "                    with open('best_hyperparams.json', 'w') as json_file:\n",
    "                        json.dump(best_hyperparams, json_file)\n",
    "                    \n",
    "                else:\n",
    "                    logger.info('Accessing the existing best hyperparams.')\n",
    "                    params_risk = best_hyperparams['Impute-'+data_name+str(ni)+'R'+str(ri)+'C'+str(ci)]['params_risk']\n",
    "\n",
    "                ################################\n",
    "                # run experiments and repeat for given number of times\n",
    "                results = experiment(data, params_risk, repeat=REPEAT)\n",
    "                logger.info('\\n\\nBest params for risk:\\n' + str(params_risk))\n",
    "                logger.info(results)\n",
    "                results_sizes[str(ni)+'R'+str(ri)+'C'+str(ci)] = results\n",
    "\n",
    "                # save results\n",
    "                dict_to_file(results_file, results_sizes)\n",
    "                ################################\n",
    "\n",
    "    logger.info('\\n\\n------------------- Experiments ended-------------------.\\n'+str(results_sizes)+'\\n------------------------------------------------\\n\\n')\n",
    "\n",
    "    return results_sizes\n"
   ]
  },
  {
   "cell_type": "markdown",
   "metadata": {},
   "source": [
    "## Synthetic"
   ]
  },
  {
   "cell_type": "code",
   "execution_count": null,
   "metadata": {
    "execution": {
     "iopub.execute_input": "2024-02-11T04:25:24.357319Z",
     "iopub.status.busy": "2024-02-11T04:25:24.356689Z",
     "iopub.status.idle": "2024-02-11T04:25:24.360617Z",
     "shell.execute_reply": "2024-02-11T04:25:24.359729Z"
    }
   },
   "outputs": [],
   "source": [
    "results_sizes = study_effect('synthetic', 'selection_bias_data.pkl', 'results_Imputation', r=[.05, .1, .2, .3, .4], c=[.05, .1, .2, .3, .4], n=[1000, 2000, 3000, 4000, 5000], search_param=False)"
   ]
  },
  {
   "cell_type": "markdown",
   "metadata": {},
   "source": [
    "## Diabetes"
   ]
  },
  {
   "cell_type": "code",
   "execution_count": null,
   "metadata": {
    "execution": {
     "iopub.execute_input": "2024-02-11T04:25:24.377914Z",
     "iopub.status.busy": "2024-02-11T04:25:24.377595Z",
     "iopub.status.idle": "2024-02-11T13:46:41.966034Z",
     "shell.execute_reply": "2024-02-11T13:46:41.965351Z"
    }
   },
   "outputs": [],
   "source": [
    "results_sizes = study_effect('diabetes', 'diabetes_bias_data.pkl', 'results_Imputation-diabetes', r=[.05, .1, .2, .3, .4], c=[.05, .1, .2, .3, .4], n=[25000, 10000, 5000, 2000, 1000], search_param=False)"
   ]
  },
  {
   "cell_type": "markdown",
   "metadata": {},
   "source": [
    "## Covid"
   ]
  },
  {
   "cell_type": "code",
   "execution_count": null,
   "metadata": {
    "execution": {
     "iopub.execute_input": "2024-02-11T13:46:41.981686Z",
     "iopub.status.busy": "2024-02-11T13:46:41.981435Z",
     "iopub.status.idle": "2024-02-11T13:46:41.985107Z",
     "shell.execute_reply": "2024-02-11T13:46:41.984301Z"
    }
   },
   "outputs": [],
   "source": [
    "results_sizes = study_effect('covid', 'covid_bias_data.pkl', 'results_Imputation-covid', r=[.05, .1, .2, .3, .4], c=[.05, .1, .2, .3, .4], n=[15000, 10000, 5000, 2000, 1000], search_param=False)"
   ]
  }
 ],
 "metadata": {
  "kernelspec": {
   "display_name": "base",
   "language": "python",
   "name": "python3"
  },
  "language_info": {
   "codemirror_mode": {
    "name": "ipython",
    "version": 3
   },
   "file_extension": ".py",
   "mimetype": "text/x-python",
   "name": "python",
   "nbconvert_exporter": "python",
   "pygments_lexer": "ipython3",
   "version": "3.9.16"
  }
 },
 "nbformat": 4,
 "nbformat_minor": 2
}
